{
 "cells": [
  {
   "cell_type": "markdown",
   "id": "a3991f2c",
   "metadata": {},
   "source": [
    "# **Group 13**:\n",
    "Evan Garcia, Jacob Ramos, Casey Kwinn, Daniel Cook"
   ]
  },
  {
   "cell_type": "markdown",
   "id": "63a44b2c",
   "metadata": {},
   "source": [
    "# **Project**: Traffic Volume\n",
    "\n",
    "Traffic is a daily dilemma that most people face in their life way too many times. The average driver in America spends 293 hrs annually behind the wheel.\n",
    "\n",
    "Our group goal is to predict metro traffic volume based on:\n",
    "Hourly weather features, \n",
    "Temperature,\n",
    "Holidays,\n",
    " & Date/Time.\n",
    "\n",
    "We will use a dataset that contains the number of instances of metro traffic during different conditions and features. We want to run and use different regression models to measure and figure out what attributes/features causes the most noticeable effect in traffic. Some techniques we plan to use are the K-Mean Clustering and Cross-Validation. (Do EDA here i guess)."
   ]
  },
  {
   "cell_type": "code",
   "execution_count": 1,
   "id": "ed107ac1",
   "metadata": {},
   "outputs": [
    {
     "data": {
      "text/html": [
       "<div>\n",
       "<style scoped>\n",
       "    .dataframe tbody tr th:only-of-type {\n",
       "        vertical-align: middle;\n",
       "    }\n",
       "\n",
       "    .dataframe tbody tr th {\n",
       "        vertical-align: top;\n",
       "    }\n",
       "\n",
       "    .dataframe thead th {\n",
       "        text-align: right;\n",
       "    }\n",
       "</style>\n",
       "<table border=\"1\" class=\"dataframe\">\n",
       "  <thead>\n",
       "    <tr style=\"text-align: right;\">\n",
       "      <th></th>\n",
       "      <th>holiday</th>\n",
       "      <th>temp</th>\n",
       "      <th>rain_1h</th>\n",
       "      <th>snow_1h</th>\n",
       "      <th>clouds_all</th>\n",
       "      <th>weather_main</th>\n",
       "      <th>weather_description</th>\n",
       "      <th>date_time</th>\n",
       "      <th>traffic_volume</th>\n",
       "    </tr>\n",
       "  </thead>\n",
       "  <tbody>\n",
       "    <tr>\n",
       "      <th>0</th>\n",
       "      <td>None</td>\n",
       "      <td>288.28</td>\n",
       "      <td>0.0</td>\n",
       "      <td>0.0</td>\n",
       "      <td>40</td>\n",
       "      <td>Clouds</td>\n",
       "      <td>scattered clouds</td>\n",
       "      <td>2012-10-02 09:00:00</td>\n",
       "      <td>5545</td>\n",
       "    </tr>\n",
       "    <tr>\n",
       "      <th>1</th>\n",
       "      <td>None</td>\n",
       "      <td>289.36</td>\n",
       "      <td>0.0</td>\n",
       "      <td>0.0</td>\n",
       "      <td>75</td>\n",
       "      <td>Clouds</td>\n",
       "      <td>broken clouds</td>\n",
       "      <td>2012-10-02 10:00:00</td>\n",
       "      <td>4516</td>\n",
       "    </tr>\n",
       "    <tr>\n",
       "      <th>2</th>\n",
       "      <td>None</td>\n",
       "      <td>289.58</td>\n",
       "      <td>0.0</td>\n",
       "      <td>0.0</td>\n",
       "      <td>90</td>\n",
       "      <td>Clouds</td>\n",
       "      <td>overcast clouds</td>\n",
       "      <td>2012-10-02 11:00:00</td>\n",
       "      <td>4767</td>\n",
       "    </tr>\n",
       "    <tr>\n",
       "      <th>3</th>\n",
       "      <td>None</td>\n",
       "      <td>290.13</td>\n",
       "      <td>0.0</td>\n",
       "      <td>0.0</td>\n",
       "      <td>90</td>\n",
       "      <td>Clouds</td>\n",
       "      <td>overcast clouds</td>\n",
       "      <td>2012-10-02 12:00:00</td>\n",
       "      <td>5026</td>\n",
       "    </tr>\n",
       "    <tr>\n",
       "      <th>4</th>\n",
       "      <td>None</td>\n",
       "      <td>291.14</td>\n",
       "      <td>0.0</td>\n",
       "      <td>0.0</td>\n",
       "      <td>75</td>\n",
       "      <td>Clouds</td>\n",
       "      <td>broken clouds</td>\n",
       "      <td>2012-10-02 13:00:00</td>\n",
       "      <td>4918</td>\n",
       "    </tr>\n",
       "    <tr>\n",
       "      <th>...</th>\n",
       "      <td>...</td>\n",
       "      <td>...</td>\n",
       "      <td>...</td>\n",
       "      <td>...</td>\n",
       "      <td>...</td>\n",
       "      <td>...</td>\n",
       "      <td>...</td>\n",
       "      <td>...</td>\n",
       "      <td>...</td>\n",
       "    </tr>\n",
       "    <tr>\n",
       "      <th>48199</th>\n",
       "      <td>None</td>\n",
       "      <td>283.45</td>\n",
       "      <td>0.0</td>\n",
       "      <td>0.0</td>\n",
       "      <td>75</td>\n",
       "      <td>Clouds</td>\n",
       "      <td>broken clouds</td>\n",
       "      <td>2018-09-30 19:00:00</td>\n",
       "      <td>3543</td>\n",
       "    </tr>\n",
       "    <tr>\n",
       "      <th>48200</th>\n",
       "      <td>None</td>\n",
       "      <td>282.76</td>\n",
       "      <td>0.0</td>\n",
       "      <td>0.0</td>\n",
       "      <td>90</td>\n",
       "      <td>Clouds</td>\n",
       "      <td>overcast clouds</td>\n",
       "      <td>2018-09-30 20:00:00</td>\n",
       "      <td>2781</td>\n",
       "    </tr>\n",
       "    <tr>\n",
       "      <th>48201</th>\n",
       "      <td>None</td>\n",
       "      <td>282.73</td>\n",
       "      <td>0.0</td>\n",
       "      <td>0.0</td>\n",
       "      <td>90</td>\n",
       "      <td>Thunderstorm</td>\n",
       "      <td>proximity thunderstorm</td>\n",
       "      <td>2018-09-30 21:00:00</td>\n",
       "      <td>2159</td>\n",
       "    </tr>\n",
       "    <tr>\n",
       "      <th>48202</th>\n",
       "      <td>None</td>\n",
       "      <td>282.09</td>\n",
       "      <td>0.0</td>\n",
       "      <td>0.0</td>\n",
       "      <td>90</td>\n",
       "      <td>Clouds</td>\n",
       "      <td>overcast clouds</td>\n",
       "      <td>2018-09-30 22:00:00</td>\n",
       "      <td>1450</td>\n",
       "    </tr>\n",
       "    <tr>\n",
       "      <th>48203</th>\n",
       "      <td>None</td>\n",
       "      <td>282.12</td>\n",
       "      <td>0.0</td>\n",
       "      <td>0.0</td>\n",
       "      <td>90</td>\n",
       "      <td>Clouds</td>\n",
       "      <td>overcast clouds</td>\n",
       "      <td>2018-09-30 23:00:00</td>\n",
       "      <td>954</td>\n",
       "    </tr>\n",
       "  </tbody>\n",
       "</table>\n",
       "<p>48204 rows × 9 columns</p>\n",
       "</div>"
      ],
      "text/plain": [
       "      holiday    temp  rain_1h  snow_1h  clouds_all  weather_main  \\\n",
       "0        None  288.28      0.0      0.0          40        Clouds   \n",
       "1        None  289.36      0.0      0.0          75        Clouds   \n",
       "2        None  289.58      0.0      0.0          90        Clouds   \n",
       "3        None  290.13      0.0      0.0          90        Clouds   \n",
       "4        None  291.14      0.0      0.0          75        Clouds   \n",
       "...       ...     ...      ...      ...         ...           ...   \n",
       "48199    None  283.45      0.0      0.0          75        Clouds   \n",
       "48200    None  282.76      0.0      0.0          90        Clouds   \n",
       "48201    None  282.73      0.0      0.0          90  Thunderstorm   \n",
       "48202    None  282.09      0.0      0.0          90        Clouds   \n",
       "48203    None  282.12      0.0      0.0          90        Clouds   \n",
       "\n",
       "          weather_description            date_time  traffic_volume  \n",
       "0            scattered clouds  2012-10-02 09:00:00            5545  \n",
       "1               broken clouds  2012-10-02 10:00:00            4516  \n",
       "2             overcast clouds  2012-10-02 11:00:00            4767  \n",
       "3             overcast clouds  2012-10-02 12:00:00            5026  \n",
       "4               broken clouds  2012-10-02 13:00:00            4918  \n",
       "...                       ...                  ...             ...  \n",
       "48199           broken clouds  2018-09-30 19:00:00            3543  \n",
       "48200         overcast clouds  2018-09-30 20:00:00            2781  \n",
       "48201  proximity thunderstorm  2018-09-30 21:00:00            2159  \n",
       "48202         overcast clouds  2018-09-30 22:00:00            1450  \n",
       "48203         overcast clouds  2018-09-30 23:00:00             954  \n",
       "\n",
       "[48204 rows x 9 columns]"
      ]
     },
     "execution_count": 1,
     "metadata": {},
     "output_type": "execute_result"
    }
   ],
   "source": [
    "import pandas as pd\n",
    "import numpy as np\n",
    "import matplotlib.pyplot as plt\n",
    "import statsmodels.api as sm\n",
    "import seaborn as sns\n",
    "from sklearn.cluster import KMeans\n",
    "df = pd.read_csv(\"Metro_Interstate_Traffic_Volume.csv\")\n",
    "df = df.fillna(0)\n",
    "df"
   ]
  },
  {
   "cell_type": "markdown",
   "id": "17cd0430",
   "metadata": {},
   "source": [
    "This is our graph that has 9 columns: Holiday, Temp, Rain1Hour, Snow1Hour, CloudAll, MainWeather, WeatherDescription, DateTime, and TrafficVolume. To start our EDA, we first want to figure out how many unique values there are in each category."
   ]
  },
  {
   "cell_type": "code",
   "execution_count": 2,
   "id": "de0510d6",
   "metadata": {},
   "outputs": [
    {
     "data": {
      "text/plain": [
       "holiday                   12\n",
       "temp                    5843\n",
       "rain_1h                  372\n",
       "snow_1h                   12\n",
       "clouds_all                60\n",
       "weather_main              11\n",
       "weather_description       38\n",
       "date_time              40575\n",
       "traffic_volume          6704\n",
       "dtype: int64"
      ]
     },
     "execution_count": 2,
     "metadata": {},
     "output_type": "execute_result"
    }
   ],
   "source": [
    "df2 = df\n",
    "df2.nunique(axis=0)"
   ]
  },
  {
   "cell_type": "markdown",
   "id": "fb9a96c5",
   "metadata": {},
   "source": [
    "We are now checking the means, count, min, max, and more about this dataset and put it in scientific notation"
   ]
  },
  {
   "cell_type": "code",
   "execution_count": 3,
   "id": "1587a6cd",
   "metadata": {},
   "outputs": [
    {
     "data": {
      "text/html": [
       "<div>\n",
       "<style scoped>\n",
       "    .dataframe tbody tr th:only-of-type {\n",
       "        vertical-align: middle;\n",
       "    }\n",
       "\n",
       "    .dataframe tbody tr th {\n",
       "        vertical-align: top;\n",
       "    }\n",
       "\n",
       "    .dataframe thead th {\n",
       "        text-align: right;\n",
       "    }\n",
       "</style>\n",
       "<table border=\"1\" class=\"dataframe\">\n",
       "  <thead>\n",
       "    <tr style=\"text-align: right;\">\n",
       "      <th></th>\n",
       "      <th>temp</th>\n",
       "      <th>rain_1h</th>\n",
       "      <th>snow_1h</th>\n",
       "      <th>clouds_all</th>\n",
       "      <th>traffic_volume</th>\n",
       "    </tr>\n",
       "  </thead>\n",
       "  <tbody>\n",
       "    <tr>\n",
       "      <th>count</th>\n",
       "      <td>48204.000000</td>\n",
       "      <td>48204.000000</td>\n",
       "      <td>48204.000000</td>\n",
       "      <td>48204.000000</td>\n",
       "      <td>48204.000000</td>\n",
       "    </tr>\n",
       "    <tr>\n",
       "      <th>mean</th>\n",
       "      <td>281.205870</td>\n",
       "      <td>0.334264</td>\n",
       "      <td>0.000222</td>\n",
       "      <td>49.362231</td>\n",
       "      <td>3259.818355</td>\n",
       "    </tr>\n",
       "    <tr>\n",
       "      <th>std</th>\n",
       "      <td>13.338232</td>\n",
       "      <td>44.789133</td>\n",
       "      <td>0.008168</td>\n",
       "      <td>39.015750</td>\n",
       "      <td>1986.860670</td>\n",
       "    </tr>\n",
       "    <tr>\n",
       "      <th>min</th>\n",
       "      <td>0.000000</td>\n",
       "      <td>0.000000</td>\n",
       "      <td>0.000000</td>\n",
       "      <td>0.000000</td>\n",
       "      <td>0.000000</td>\n",
       "    </tr>\n",
       "    <tr>\n",
       "      <th>25%</th>\n",
       "      <td>272.160000</td>\n",
       "      <td>0.000000</td>\n",
       "      <td>0.000000</td>\n",
       "      <td>1.000000</td>\n",
       "      <td>1193.000000</td>\n",
       "    </tr>\n",
       "    <tr>\n",
       "      <th>50%</th>\n",
       "      <td>282.450000</td>\n",
       "      <td>0.000000</td>\n",
       "      <td>0.000000</td>\n",
       "      <td>64.000000</td>\n",
       "      <td>3380.000000</td>\n",
       "    </tr>\n",
       "    <tr>\n",
       "      <th>75%</th>\n",
       "      <td>291.806000</td>\n",
       "      <td>0.000000</td>\n",
       "      <td>0.000000</td>\n",
       "      <td>90.000000</td>\n",
       "      <td>4933.000000</td>\n",
       "    </tr>\n",
       "    <tr>\n",
       "      <th>max</th>\n",
       "      <td>310.070000</td>\n",
       "      <td>9831.300000</td>\n",
       "      <td>0.510000</td>\n",
       "      <td>100.000000</td>\n",
       "      <td>7280.000000</td>\n",
       "    </tr>\n",
       "  </tbody>\n",
       "</table>\n",
       "</div>"
      ],
      "text/plain": [
       "               temp       rain_1h       snow_1h    clouds_all traffic_volume\n",
       "count  48204.000000  48204.000000  48204.000000  48204.000000   48204.000000\n",
       "mean     281.205870      0.334264      0.000222     49.362231    3259.818355\n",
       "std       13.338232     44.789133      0.008168     39.015750    1986.860670\n",
       "min        0.000000      0.000000      0.000000      0.000000       0.000000\n",
       "25%      272.160000      0.000000      0.000000      1.000000    1193.000000\n",
       "50%      282.450000      0.000000      0.000000     64.000000    3380.000000\n",
       "75%      291.806000      0.000000      0.000000     90.000000    4933.000000\n",
       "max      310.070000   9831.300000      0.510000    100.000000    7280.000000"
      ]
     },
     "execution_count": 3,
     "metadata": {},
     "output_type": "execute_result"
    }
   ],
   "source": [
    "df2.describe().apply(lambda s: s.apply(lambda x: format(x, 'f')))"
   ]
  },
  {
   "cell_type": "markdown",
   "id": "f0412a19",
   "metadata": {},
   "source": [
    "To go further in examining the data, we will focus on getting a better understanding of the variables and values."
   ]
  },
  {
   "cell_type": "code",
   "execution_count": 4,
   "id": "e2e5463c",
   "metadata": {},
   "outputs": [
    {
     "data": {
      "text/plain": [
       "array(['Clouds', 'Clear', 'Rain', 'Drizzle', 'Mist', 'Haze', 'Fog',\n",
       "       'Thunderstorm', 'Snow', 'Squall', 'Smoke'], dtype=object)"
      ]
     },
     "execution_count": 4,
     "metadata": {},
     "output_type": "execute_result"
    }
   ],
   "source": [
    "df2.weather_main.unique()"
   ]
  },
  {
   "cell_type": "code",
   "execution_count": 5,
   "id": "7669b8e8",
   "metadata": {},
   "outputs": [
    {
     "data": {
      "text/plain": [
       "array([0.  , 0.51, 0.32, 0.06, 0.05, 0.21, 0.25, 0.44, 0.13, 0.1 , 0.17,\n",
       "       0.08])"
      ]
     },
     "execution_count": 5,
     "metadata": {},
     "output_type": "execute_result"
    }
   ],
   "source": [
    "df2.snow_1h.unique()"
   ]
  },
  {
   "cell_type": "code",
   "execution_count": 6,
   "id": "44f8cf97",
   "metadata": {},
   "outputs": [
    {
     "data": {
      "text/plain": [
       "array(['None', 'Columbus Day', 'Veterans Day', 'Thanksgiving Day',\n",
       "       'Christmas Day', 'New Years Day', 'Washingtons Birthday',\n",
       "       'Memorial Day', 'Independence Day', 'State Fair', 'Labor Day',\n",
       "       'Martin Luther King Jr Day'], dtype=object)"
      ]
     },
     "execution_count": 6,
     "metadata": {},
     "output_type": "execute_result"
    }
   ],
   "source": [
    "df2.holiday.unique()"
   ]
  },
  {
   "cell_type": "code",
   "execution_count": 7,
   "id": "7a22010a",
   "metadata": {},
   "outputs": [
    {
     "data": {
      "text/plain": [
       "array([ 40,  75,  90,   1,  20,   0, 100,  92,  99,  81,  50,  72,  56,\n",
       "        57,  93,  85,  68,  87,  91,  96,  48,  60,   8,  38,  46,  98,\n",
       "        86,  16,   6,  59,  54,  89,  78,  36,  17,  58,  63,  42,  25,\n",
       "        11,  13,  83,  70,  84,   3,  77,  88,  67,  97,  62,  32,   4,\n",
       "         5,   2,  44,  24,  76,  64,  80,  12], dtype=int64)"
      ]
     },
     "execution_count": 7,
     "metadata": {},
     "output_type": "execute_result"
    }
   ],
   "source": [
    "df2.clouds_all.unique()"
   ]
  },
  {
   "cell_type": "code",
   "execution_count": 8,
   "id": "4af93859",
   "metadata": {},
   "outputs": [
    {
     "data": {
      "text/plain": [
       "array([0.0000e+00, 2.5000e-01, 5.7000e-01, 3.8000e-01, 3.0000e-01,\n",
       "       2.9000e-01, 4.4000e-01, 3.6000e-01, 2.1600e+00, 3.3900e+00,\n",
       "       8.4000e-01, 7.6000e-01, 5.1000e-01, 6.9000e-01, 1.0000e+00,\n",
       "       1.2900e+00, 1.3400e+00, 1.8400e+00, 1.7000e+00, 4.7000e-01,\n",
       "       1.4100e+00, 1.4400e+00, 7.0000e-01, 3.1800e+00, 6.1000e-01,\n",
       "       6.4000e-01, 1.0200e+00, 5.4200e+00, 8.6400e+00, 5.7400e+00,\n",
       "       4.9800e+00, 3.6500e+00, 6.8000e-01, 4.6000e-01, 4.2000e-01,\n",
       "       1.5200e+00, 8.9000e-01, 1.4000e+00, 1.2190e+01, 2.2900e+00,\n",
       "       7.5400e+00, 6.9400e+00, 1.6380e+01, 1.7800e+00, 2.5400e+00,\n",
       "       9.1400e+00, 3.0500e+00, 1.6500e+00, 4.4450e+01, 3.8100e+00,\n",
       "       5.8400e+00, 3.5600e+00, 7.3700e+00, 1.3500e+00, 1.6000e+01,\n",
       "       1.0540e+01, 1.2700e+00, 5.0800e+00, 1.9900e+01, 2.5320e+01,\n",
       "       2.1420e+01, 5.5900e+00, 7.1100e+00, 5.9700e+00, 9.5300e+00,\n",
       "       2.0300e+00, 5.5630e+01, 1.3210e+01, 6.6000e+00, 5.6000e-01,\n",
       "       3.2000e-01, 2.3700e+00, 3.9800e+00, 4.3200e+00, 1.9600e+00,\n",
       "       1.6800e+00, 4.3900e+00, 4.2700e+00, 1.6600e+00, 3.4000e-01,\n",
       "       3.5000e-01, 1.3900e+00, 1.8000e+00, 9.1000e-01, 1.2100e+00,\n",
       "       1.1300e+00, 1.0900e+00, 5.3000e-01, 9.7000e-01, 8.5000e-01,\n",
       "       1.8800e+01, 2.8700e+01, 1.4730e+01, 4.1000e-01, 7.9000e-01,\n",
       "       1.0600e+00, 9.5000e-01, 1.0700e+00, 3.7000e-01, 8.3000e-01,\n",
       "       7.2000e-01, 6.7000e-01, 1.9100e+00, 5.4000e-01, 4.8000e-01,\n",
       "       4.0000e-01, 3.1000e-01, 2.8000e-01, 2.6000e-01, 9.4000e-01,\n",
       "       2.0500e+00, 1.8700e+00, 1.1400e+00, 5.9000e-01, 5.2000e-01,\n",
       "       7.1000e-01, 5.8000e-01, 6.0000e-01, 2.7000e-01, 3.3000e-01,\n",
       "       1.1100e+00, 2.1300e+00, 2.1000e+00, 1.6300e+00, 1.3800e+00,\n",
       "       9.6000e-01, 8.1000e-01, 1.0800e+00, 1.7100e+00, 2.3500e+00,\n",
       "       1.8600e+00, 2.1100e+00, 2.8600e+00, 2.5300e+00, 2.8500e+00,\n",
       "       2.2100e+00, 1.3000e+00, 9.2000e-01, 1.2000e+00, 8.0000e-01,\n",
       "       7.8000e-01, 8.8000e-01, 6.6000e-01, 6.2000e-01, 9.0000e-01,\n",
       "       4.3000e-01, 1.1200e+00, 1.4600e+00, 1.2200e+00, 1.0500e+00,\n",
       "       2.2200e+00, 6.5000e-01, 2.3100e+00, 3.1700e+00, 2.1400e+00,\n",
       "       2.3400e+00, 1.6100e+00, 1.5000e+00, 2.6700e+00, 5.5800e+00,\n",
       "       5.1100e+00, 5.1000e+00, 4.5300e+00, 1.2500e+00, 4.5000e+00,\n",
       "       3.4700e+00, 5.5000e-01, 4.5000e-01, 2.1800e+00, 1.3200e+00,\n",
       "       2.8400e+00, 3.4100e+00, 2.9300e+00, 2.8700e+00, 2.8000e+00,\n",
       "       7.4000e-01, 6.3500e+00, 4.2900e+00, 1.2400e+00, 8.7000e-01,\n",
       "       7.3900e+00, 3.1900e+00, 1.8300e+00, 2.7900e+00, 9.8000e-01,\n",
       "       5.0000e-01, 7.7000e-01, 2.9800e+00, 4.7600e+00, 4.8900e+00,\n",
       "       9.3000e-01, 1.2800e+00, 4.4500e+00, 5.2700e+00, 1.1580e+01,\n",
       "       7.0200e+00, 3.0800e+00, 1.9800e+00, 1.4700e+00, 1.0400e+00,\n",
       "       1.3300e+00, 4.6600e+00, 2.0800e+00, 2.2000e+00, 3.1200e+00,\n",
       "       1.5300e+00, 1.8500e+00, 3.2500e+00, 1.9000e+00, 1.2450e+01,\n",
       "       2.4100e+00, 1.3700e+00, 5.4600e+00, 2.7800e+00, 1.3100e+00,\n",
       "       3.4400e+00, 2.7500e+00, 2.1900e+00, 1.5500e+00, 1.5900e+00,\n",
       "       5.7300e+00, 5.9300e+00, 6.8900e+00, 3.9100e+00, 1.8030e+01,\n",
       "       4.4300e+00, 3.9000e+00, 6.4500e+00, 5.0200e+00, 4.0900e+00,\n",
       "       1.7600e+00, 1.1900e+00, 2.7000e+00, 7.7700e+00, 4.2100e+00,\n",
       "       1.8800e+00, 1.7200e+00, 1.1000e+00, 3.0100e+00, 2.1200e+00,\n",
       "       8.4000e+00, 4.8000e+00, 9.9000e+00, 6.1000e+00, 4.1800e+00,\n",
       "       8.6000e-01, 1.4900e+00, 8.8900e+00, 7.3000e-01, 1.1590e+01,\n",
       "       2.3300e+00, 9.4000e+00, 3.2000e+00, 7.9700e+00, 2.3800e+01,\n",
       "       1.1780e+01, 7.5100e+00, 1.5410e+01, 3.1300e+00, 2.1500e+00,\n",
       "       4.5700e+00, 9.9100e+00, 2.7570e+01, 7.2900e+00, 1.1500e+00,\n",
       "       1.3640e+01, 7.2500e+00, 5.2500e+00, 2.9100e+00, 8.0200e+00,\n",
       "       2.0240e+01, 1.3320e+01, 5.5200e+00, 1.2700e+01, 4.3800e+00,\n",
       "       1.0300e+00, 3.5400e+00, 5.8600e+00, 7.8700e+00, 6.4700e+00,\n",
       "       2.6100e+00, 1.6700e+00, 1.5600e+00, 8.0400e+00, 2.5460e+01,\n",
       "       3.0900e+00, 1.9300e+00, 1.5100e+00, 3.7400e+00, 7.7200e+00,\n",
       "       4.6400e+00, 2.4900e+00, 5.0400e+00, 5.9200e+00, 5.3600e+00,\n",
       "       2.3800e+00, 6.3000e-01, 3.2800e+00, 4.0400e+00, 2.6200e+00,\n",
       "       3.3000e+00, 3.8600e+00, 5.6900e+00, 2.0600e+00, 1.0670e+01,\n",
       "       6.0100e+00, 2.4000e+00, 1.6000e+00, 4.0600e+00, 5.2100e+00,\n",
       "       4.7000e+00, 2.9600e+00, 1.6900e+00, 1.0920e+01, 2.6800e+00,\n",
       "       1.0050e+01, 7.7000e+00, 4.0500e+00, 3.8000e+00, 7.6200e+00,\n",
       "       6.4800e+00, 9.8313e+03, 1.1230e+01, 9.4200e+00, 1.3460e+01,\n",
       "       5.8900e+00, 1.6510e+01, 1.2830e+01, 1.8420e+01, 5.0600e+00,\n",
       "       1.9500e+00, 9.0000e+00, 3.9400e+00, 8.8600e+00, 5.9900e+00,\n",
       "       8.0000e+00, 3.1750e+01, 5.4100e+00, 2.0070e+01, 1.0160e+01,\n",
       "       9.1500e+00, 2.3900e+00, 3.2700e+00, 4.1500e+00, 4.7400e+00,\n",
       "       3.7500e+00, 2.8300e+00, 1.5750e+01, 3.6400e+00, 7.1300e+00,\n",
       "       1.1600e+00, 7.0500e+00, 2.7300e+00, 4.0000e+00, 2.7600e+00,\n",
       "       2.8800e+00, 1.8200e+00, 5.6200e+00, 3.4000e+00, 2.9200e+00,\n",
       "       3.1000e+00, 2.6000e+00, 1.4500e+00, 2.2600e+00, 3.4500e+00,\n",
       "       2.4800e+00, 5.1200e+00, 1.0100e+00, 4.7900e+00, 5.1900e+00,\n",
       "       9.6200e+00, 1.0600e+01])"
      ]
     },
     "execution_count": 8,
     "metadata": {},
     "output_type": "execute_result"
    }
   ],
   "source": [
    "df2.rain_1h.unique()"
   ]
  },
  {
   "cell_type": "code",
   "execution_count": 9,
   "id": "f0c937b4",
   "metadata": {},
   "outputs": [
    {
     "data": {
      "text/plain": [
       "array(['scattered clouds', 'broken clouds', 'overcast clouds',\n",
       "       'sky is clear', 'few clouds', 'light rain',\n",
       "       'light intensity drizzle', 'mist', 'haze', 'fog',\n",
       "       'proximity shower rain', 'drizzle', 'moderate rain',\n",
       "       'heavy intensity rain', 'proximity thunderstorm',\n",
       "       'thunderstorm with light rain', 'proximity thunderstorm with rain',\n",
       "       'heavy snow', 'heavy intensity drizzle', 'snow',\n",
       "       'thunderstorm with heavy rain', 'freezing rain', 'shower snow',\n",
       "       'light rain and snow', 'light intensity shower rain', 'SQUALLS',\n",
       "       'thunderstorm with rain', 'proximity thunderstorm with drizzle',\n",
       "       'thunderstorm', 'Sky is Clear', 'very heavy rain',\n",
       "       'thunderstorm with light drizzle', 'light snow',\n",
       "       'thunderstorm with drizzle', 'smoke', 'shower drizzle',\n",
       "       'light shower snow', 'sleet'], dtype=object)"
      ]
     },
     "execution_count": 9,
     "metadata": {},
     "output_type": "execute_result"
    }
   ],
   "source": [
    "df2.weather_description.unique()"
   ]
  },
  {
   "cell_type": "markdown",
   "id": "a86d8a48",
   "metadata": {},
   "source": [
    "While examining the unique values, one thing we notice in weather description is that some of it is similar to each other, such as 'thunderstorm with light drizzle' and 'thunderstorm with drizzle'. This is redundant and we want to reclassify some of these descriptions."
   ]
  },
  {
   "cell_type": "code",
   "execution_count": 10,
   "id": "ba6356bd",
   "metadata": {},
   "outputs": [
    {
     "data": {
      "text/plain": [
       "array(['scattered clouds', 'broken clouds', 'overcast clouds',\n",
       "       'sky is clear', 'few clouds', 'light rain', 'drizzle', 'mist',\n",
       "       'haze', 'fog', 'proximity shower rain', 'moderate rain',\n",
       "       'heavy intensity rain', 'proximity thunderstorm',\n",
       "       'thunderstorm with rain', 'proximity thunderstorm with rain',\n",
       "       'heavy snow', 'snow', 'freezing rain', 'shower snow',\n",
       "       'light rain and snow', 'light intensity shower rain', 'SQUALLS',\n",
       "       'proximity thunderstorm with drizzle', 'thunderstorm',\n",
       "       'Sky is Clear', 'very heavy rain', 'thunderstorm with drizzle',\n",
       "       'light snow', 'smoke', 'shower drizzle', 'light shower snow',\n",
       "       'sleet'], dtype=object)"
      ]
     },
     "execution_count": 10,
     "metadata": {},
     "output_type": "execute_result"
    }
   ],
   "source": [
    "def clean_weather_description(row):\n",
    "    \n",
    "    simplifythunderstormrain = ['thunderstorm with light rain', 'thunderstorm with rain', 'thunderstorm with heavy rain' ]\n",
    "    simplifythunderstormdrizzle = ['thunderstorm with drizzle', 'thunderstorm with light drizzle']\n",
    "    simplifydrizzle = ['light intensity drizzle', 'drizzle', 'heavy intensity drizzle']\n",
    "    \n",
    "    if row.weather_description in simplifythunderstormrain:\n",
    "        return 'thunderstorm with rain'   \n",
    "    if row.weather_description in simplifythunderstormdrizzle:\n",
    "        return 'thunderstorm with drizzle' \n",
    "    if row.weather_description in simplifydrizzle:\n",
    "        return 'drizzle'   \n",
    "    return row.weather_description # Clean dataframe\n",
    "def clean_df(playlist):\n",
    "    df_cleaned = df2.copy()\n",
    "    df_cleaned['weather_description'] = df_cleaned.apply(lambda row: clean_weather_description(row), axis=1)\n",
    "    return df_cleaned# Get df with reclassfied 'condition' column\n",
    "df_cleaned = clean_df(df2)\n",
    "df_cleaned.weather_description.unique()"
   ]
  },
  {
   "cell_type": "markdown",
   "id": "9aaf74f4",
   "metadata": {},
   "source": [
    "As shown, we reduced some of the variables that were redundant. (Might do more with other columns possibly)"
   ]
  },
  {
   "cell_type": "markdown",
   "id": "3160d59a",
   "metadata": {},
   "source": [
    "Going through the dataset, we realize that the columns of rain and snow 1 hour on the cluster graphs we made have very little use or info to extract from because most of the time the column is equal to 0. So we will rid of these columns."
   ]
  },
  {
   "cell_type": "code",
   "execution_count": 11,
   "id": "627749ac",
   "metadata": {},
   "outputs": [
    {
     "data": {
      "text/plain": [
       "holiday                   12\n",
       "temp                    5843\n",
       "clouds_all                60\n",
       "weather_main              11\n",
       "weather_description       33\n",
       "date_time              40575\n",
       "traffic_volume          6704\n",
       "dtype: int64"
      ]
     },
     "execution_count": 11,
     "metadata": {},
     "output_type": "execute_result"
    }
   ],
   "source": [
    "df_cleaned = df_cleaned.copy().drop(['rain_1h','snow_1h'], axis=1)\n",
    "df_cleaned.nunique(axis=0)"
   ]
  },
  {
   "cell_type": "markdown",
   "id": "8569f215",
   "metadata": {},
   "source": [
    "Now the next step in the EDA is to rid of some outliers, like in the temp category."
   ]
  },
  {
   "cell_type": "code",
   "execution_count": 12,
   "id": "45742c11",
   "metadata": {},
   "outputs": [
    {
     "data": {
      "text/html": [
       "<div>\n",
       "<style scoped>\n",
       "    .dataframe tbody tr th:only-of-type {\n",
       "        vertical-align: middle;\n",
       "    }\n",
       "\n",
       "    .dataframe tbody tr th {\n",
       "        vertical-align: top;\n",
       "    }\n",
       "\n",
       "    .dataframe thead th {\n",
       "        text-align: right;\n",
       "    }\n",
       "</style>\n",
       "<table border=\"1\" class=\"dataframe\">\n",
       "  <thead>\n",
       "    <tr style=\"text-align: right;\">\n",
       "      <th></th>\n",
       "      <th>temp</th>\n",
       "      <th>clouds_all</th>\n",
       "      <th>traffic_volume</th>\n",
       "    </tr>\n",
       "  </thead>\n",
       "  <tbody>\n",
       "    <tr>\n",
       "      <th>count</th>\n",
       "      <td>36990.000000</td>\n",
       "      <td>36990.000000</td>\n",
       "      <td>36990.000000</td>\n",
       "    </tr>\n",
       "    <tr>\n",
       "      <th>mean</th>\n",
       "      <td>282.127316</td>\n",
       "      <td>50.974723</td>\n",
       "      <td>4067.710462</td>\n",
       "    </tr>\n",
       "    <tr>\n",
       "      <th>std</th>\n",
       "      <td>12.625154</td>\n",
       "      <td>38.399518</td>\n",
       "      <td>1503.880016</td>\n",
       "    </tr>\n",
       "    <tr>\n",
       "      <th>min</th>\n",
       "      <td>250.010000</td>\n",
       "      <td>0.000000</td>\n",
       "      <td>1001.000000</td>\n",
       "    </tr>\n",
       "    <tr>\n",
       "      <th>25%</th>\n",
       "      <td>272.780000</td>\n",
       "      <td>1.000000</td>\n",
       "      <td>2863.000000</td>\n",
       "    </tr>\n",
       "    <tr>\n",
       "      <th>50%</th>\n",
       "      <td>283.550000</td>\n",
       "      <td>64.000000</td>\n",
       "      <td>4339.000000</td>\n",
       "    </tr>\n",
       "    <tr>\n",
       "      <th>75%</th>\n",
       "      <td>292.770000</td>\n",
       "      <td>90.000000</td>\n",
       "      <td>5221.000000</td>\n",
       "    </tr>\n",
       "    <tr>\n",
       "      <th>max</th>\n",
       "      <td>310.070000</td>\n",
       "      <td>100.000000</td>\n",
       "      <td>7280.000000</td>\n",
       "    </tr>\n",
       "  </tbody>\n",
       "</table>\n",
       "</div>"
      ],
      "text/plain": [
       "               temp    clouds_all traffic_volume\n",
       "count  36990.000000  36990.000000   36990.000000\n",
       "mean     282.127316     50.974723    4067.710462\n",
       "std       12.625154     38.399518    1503.880016\n",
       "min      250.010000      0.000000    1001.000000\n",
       "25%      272.780000      1.000000    2863.000000\n",
       "50%      283.550000     64.000000    4339.000000\n",
       "75%      292.770000     90.000000    5221.000000\n",
       "max      310.070000    100.000000    7280.000000"
      ]
     },
     "execution_count": 12,
     "metadata": {},
     "output_type": "execute_result"
    }
   ],
   "source": [
    "df_cleaned = df_cleaned[df_cleaned['temp'].between(250.00, 312.00)]\n",
    "df_cleaned = df_cleaned[df_cleaned['traffic_volume'] > 1000]\n",
    "df_cleaned.describe().apply(lambda s: s.apply(lambda x: format(x, 'f')))"
   ]
  },
  {
   "cell_type": "code",
   "execution_count": 13,
   "id": "d4bc5f2b",
   "metadata": {},
   "outputs": [
    {
     "data": {
      "text/html": [
       "<div>\n",
       "<style scoped>\n",
       "    .dataframe tbody tr th:only-of-type {\n",
       "        vertical-align: middle;\n",
       "    }\n",
       "\n",
       "    .dataframe tbody tr th {\n",
       "        vertical-align: top;\n",
       "    }\n",
       "\n",
       "    .dataframe thead th {\n",
       "        text-align: right;\n",
       "    }\n",
       "</style>\n",
       "<table border=\"1\" class=\"dataframe\">\n",
       "  <thead>\n",
       "    <tr style=\"text-align: right;\">\n",
       "      <th></th>\n",
       "      <th>holiday</th>\n",
       "      <th>temp</th>\n",
       "      <th>clouds_all</th>\n",
       "      <th>weather_main</th>\n",
       "      <th>weather_description</th>\n",
       "      <th>date_time</th>\n",
       "      <th>traffic_volume</th>\n",
       "    </tr>\n",
       "  </thead>\n",
       "  <tbody>\n",
       "    <tr>\n",
       "      <th>0</th>\n",
       "      <td>None</td>\n",
       "      <td>288.28</td>\n",
       "      <td>40</td>\n",
       "      <td>Clouds</td>\n",
       "      <td>scattered clouds</td>\n",
       "      <td>2012-10-02 09:00:00</td>\n",
       "      <td>5545</td>\n",
       "    </tr>\n",
       "    <tr>\n",
       "      <th>1</th>\n",
       "      <td>None</td>\n",
       "      <td>289.36</td>\n",
       "      <td>75</td>\n",
       "      <td>Clouds</td>\n",
       "      <td>broken clouds</td>\n",
       "      <td>2012-10-02 10:00:00</td>\n",
       "      <td>4516</td>\n",
       "    </tr>\n",
       "    <tr>\n",
       "      <th>2</th>\n",
       "      <td>None</td>\n",
       "      <td>289.58</td>\n",
       "      <td>90</td>\n",
       "      <td>Clouds</td>\n",
       "      <td>overcast clouds</td>\n",
       "      <td>2012-10-02 11:00:00</td>\n",
       "      <td>4767</td>\n",
       "    </tr>\n",
       "    <tr>\n",
       "      <th>3</th>\n",
       "      <td>None</td>\n",
       "      <td>290.13</td>\n",
       "      <td>90</td>\n",
       "      <td>Clouds</td>\n",
       "      <td>overcast clouds</td>\n",
       "      <td>2012-10-02 12:00:00</td>\n",
       "      <td>5026</td>\n",
       "    </tr>\n",
       "    <tr>\n",
       "      <th>4</th>\n",
       "      <td>None</td>\n",
       "      <td>291.14</td>\n",
       "      <td>75</td>\n",
       "      <td>Clouds</td>\n",
       "      <td>broken clouds</td>\n",
       "      <td>2012-10-02 13:00:00</td>\n",
       "      <td>4918</td>\n",
       "    </tr>\n",
       "    <tr>\n",
       "      <th>...</th>\n",
       "      <td>...</td>\n",
       "      <td>...</td>\n",
       "      <td>...</td>\n",
       "      <td>...</td>\n",
       "      <td>...</td>\n",
       "      <td>...</td>\n",
       "      <td>...</td>\n",
       "    </tr>\n",
       "    <tr>\n",
       "      <th>48198</th>\n",
       "      <td>None</td>\n",
       "      <td>284.20</td>\n",
       "      <td>75</td>\n",
       "      <td>Rain</td>\n",
       "      <td>light rain</td>\n",
       "      <td>2018-09-30 18:00:00</td>\n",
       "      <td>3947</td>\n",
       "    </tr>\n",
       "    <tr>\n",
       "      <th>48199</th>\n",
       "      <td>None</td>\n",
       "      <td>283.45</td>\n",
       "      <td>75</td>\n",
       "      <td>Clouds</td>\n",
       "      <td>broken clouds</td>\n",
       "      <td>2018-09-30 19:00:00</td>\n",
       "      <td>3543</td>\n",
       "    </tr>\n",
       "    <tr>\n",
       "      <th>48200</th>\n",
       "      <td>None</td>\n",
       "      <td>282.76</td>\n",
       "      <td>90</td>\n",
       "      <td>Clouds</td>\n",
       "      <td>overcast clouds</td>\n",
       "      <td>2018-09-30 20:00:00</td>\n",
       "      <td>2781</td>\n",
       "    </tr>\n",
       "    <tr>\n",
       "      <th>48201</th>\n",
       "      <td>None</td>\n",
       "      <td>282.73</td>\n",
       "      <td>90</td>\n",
       "      <td>Thunderstorm</td>\n",
       "      <td>proximity thunderstorm</td>\n",
       "      <td>2018-09-30 21:00:00</td>\n",
       "      <td>2159</td>\n",
       "    </tr>\n",
       "    <tr>\n",
       "      <th>48202</th>\n",
       "      <td>None</td>\n",
       "      <td>282.09</td>\n",
       "      <td>90</td>\n",
       "      <td>Clouds</td>\n",
       "      <td>overcast clouds</td>\n",
       "      <td>2018-09-30 22:00:00</td>\n",
       "      <td>1450</td>\n",
       "    </tr>\n",
       "  </tbody>\n",
       "</table>\n",
       "<p>36990 rows × 7 columns</p>\n",
       "</div>"
      ],
      "text/plain": [
       "      holiday    temp  clouds_all  weather_main     weather_description  \\\n",
       "0        None  288.28          40        Clouds        scattered clouds   \n",
       "1        None  289.36          75        Clouds           broken clouds   \n",
       "2        None  289.58          90        Clouds         overcast clouds   \n",
       "3        None  290.13          90        Clouds         overcast clouds   \n",
       "4        None  291.14          75        Clouds           broken clouds   \n",
       "...       ...     ...         ...           ...                     ...   \n",
       "48198    None  284.20          75          Rain              light rain   \n",
       "48199    None  283.45          75        Clouds           broken clouds   \n",
       "48200    None  282.76          90        Clouds         overcast clouds   \n",
       "48201    None  282.73          90  Thunderstorm  proximity thunderstorm   \n",
       "48202    None  282.09          90        Clouds         overcast clouds   \n",
       "\n",
       "                 date_time  traffic_volume  \n",
       "0      2012-10-02 09:00:00            5545  \n",
       "1      2012-10-02 10:00:00            4516  \n",
       "2      2012-10-02 11:00:00            4767  \n",
       "3      2012-10-02 12:00:00            5026  \n",
       "4      2012-10-02 13:00:00            4918  \n",
       "...                    ...             ...  \n",
       "48198  2018-09-30 18:00:00            3947  \n",
       "48199  2018-09-30 19:00:00            3543  \n",
       "48200  2018-09-30 20:00:00            2781  \n",
       "48201  2018-09-30 21:00:00            2159  \n",
       "48202  2018-09-30 22:00:00            1450  \n",
       "\n",
       "[36990 rows x 7 columns]"
      ]
     },
     "execution_count": 13,
     "metadata": {},
     "output_type": "execute_result"
    }
   ],
   "source": [
    "df_cleaned"
   ]
  },
  {
   "cell_type": "code",
   "execution_count": null,
   "id": "00de59af",
   "metadata": {},
   "outputs": [],
   "source": []
  },
  {
   "cell_type": "markdown",
   "id": "c8487303",
   "metadata": {},
   "source": [
    "## **Main Part**\n",
    "\n",
    "For our project, we are going to use K-Mean Clustering on our dataset to find clusters that show the attributes that have the most influence on metropolitan traffic. (Just testing and messing with data)"
   ]
  },
  {
   "cell_type": "code",
   "execution_count": 14,
   "id": "60f451ee",
   "metadata": {},
   "outputs": [
    {
     "data": {
      "text/html": [
       "<div>\n",
       "<style scoped>\n",
       "    .dataframe tbody tr th:only-of-type {\n",
       "        vertical-align: middle;\n",
       "    }\n",
       "\n",
       "    .dataframe tbody tr th {\n",
       "        vertical-align: top;\n",
       "    }\n",
       "\n",
       "    .dataframe thead th {\n",
       "        text-align: right;\n",
       "    }\n",
       "</style>\n",
       "<table border=\"1\" class=\"dataframe\">\n",
       "  <thead>\n",
       "    <tr style=\"text-align: right;\">\n",
       "      <th></th>\n",
       "      <th>temp</th>\n",
       "      <th>traffic_volume</th>\n",
       "    </tr>\n",
       "  </thead>\n",
       "  <tbody>\n",
       "    <tr>\n",
       "      <th>0</th>\n",
       "      <td>288.28</td>\n",
       "      <td>5545</td>\n",
       "    </tr>\n",
       "    <tr>\n",
       "      <th>1</th>\n",
       "      <td>289.36</td>\n",
       "      <td>4516</td>\n",
       "    </tr>\n",
       "    <tr>\n",
       "      <th>2</th>\n",
       "      <td>289.58</td>\n",
       "      <td>4767</td>\n",
       "    </tr>\n",
       "    <tr>\n",
       "      <th>3</th>\n",
       "      <td>290.13</td>\n",
       "      <td>5026</td>\n",
       "    </tr>\n",
       "    <tr>\n",
       "      <th>4</th>\n",
       "      <td>291.14</td>\n",
       "      <td>4918</td>\n",
       "    </tr>\n",
       "    <tr>\n",
       "      <th>...</th>\n",
       "      <td>...</td>\n",
       "      <td>...</td>\n",
       "    </tr>\n",
       "    <tr>\n",
       "      <th>48199</th>\n",
       "      <td>283.45</td>\n",
       "      <td>3543</td>\n",
       "    </tr>\n",
       "    <tr>\n",
       "      <th>48200</th>\n",
       "      <td>282.76</td>\n",
       "      <td>2781</td>\n",
       "    </tr>\n",
       "    <tr>\n",
       "      <th>48201</th>\n",
       "      <td>282.73</td>\n",
       "      <td>2159</td>\n",
       "    </tr>\n",
       "    <tr>\n",
       "      <th>48202</th>\n",
       "      <td>282.09</td>\n",
       "      <td>1450</td>\n",
       "    </tr>\n",
       "    <tr>\n",
       "      <th>48203</th>\n",
       "      <td>282.12</td>\n",
       "      <td>954</td>\n",
       "    </tr>\n",
       "  </tbody>\n",
       "</table>\n",
       "<p>48204 rows × 2 columns</p>\n",
       "</div>"
      ],
      "text/plain": [
       "         temp  traffic_volume\n",
       "0      288.28            5545\n",
       "1      289.36            4516\n",
       "2      289.58            4767\n",
       "3      290.13            5026\n",
       "4      291.14            4918\n",
       "...       ...             ...\n",
       "48199  283.45            3543\n",
       "48200  282.76            2781\n",
       "48201  282.73            2159\n",
       "48202  282.09            1450\n",
       "48203  282.12             954\n",
       "\n",
       "[48204 rows x 2 columns]"
      ]
     },
     "execution_count": 14,
     "metadata": {},
     "output_type": "execute_result"
    }
   ],
   "source": [
    "x = df[['temp', 'traffic_volume']].copy()\n",
    "x"
   ]
  },
  {
   "cell_type": "code",
   "execution_count": 15,
   "id": "55bccf47",
   "metadata": {},
   "outputs": [
    {
     "data": {
      "text/plain": [
       "array([0, 0, 0, ..., 2, 1, 1])"
      ]
     },
     "execution_count": 15,
     "metadata": {},
     "output_type": "execute_result"
    }
   ],
   "source": [
    "kmean = KMeans(3)\n",
    "kmean.fit(x)\n",
    "identified_clusters = kmean.fit_predict(x)\n",
    "identified_clusters"
   ]
  },
  {
   "cell_type": "code",
   "execution_count": 16,
   "id": "f6bb4304",
   "metadata": {},
   "outputs": [
    {
     "data": {
      "text/plain": [
       "<matplotlib.collections.PathCollection at 0x1aa15a17c40>"
      ]
     },
     "execution_count": 16,
     "metadata": {},
     "output_type": "execute_result"
    },
    {
     "data": {
      "image/png": "[encoded data removed]",
      "text/plain": [
       "<Figure size 640x480 with 1 Axes>"
      ]
     },
     "metadata": {},
     "output_type": "display_data"
    }
   ],
   "source": [
    "data_with_clusters = df.copy()\n",
    "data_with_clusters['Clusters'] = identified_clusters \n",
    "plt.scatter(data_with_clusters['temp'],data_with_clusters['traffic_volume'],c=data_with_clusters['Clusters'],cmap='rainbow')"
   ]
  },
  {
   "cell_type": "markdown",
   "id": "3513fb06",
   "metadata": {},
   "source": [
    "This is just to see if a elbow test can work"
   ]
  },
  {
   "cell_type": "code",
   "execution_count": 17,
   "id": "bbb3a1c1",
   "metadata": {},
   "outputs": [
    {
     "data": {
      "text/plain": [
       "Text(0, 0.5, 'WCSS')"
      ]
     },
     "execution_count": 17,
     "metadata": {},
     "output_type": "execute_result"
    },
    {
     "data": {
      "image/png": "[encoded data removed]",
      "text/plain": [
       "<Figure size 640x480 with 1 Axes>"
      ]
     },
     "metadata": {},
     "output_type": "display_data"
    }
   ],
   "source": [
    "wcss = []\n",
    "for i in range(1,7):\n",
    "    kmean = KMeans(i)\n",
    "    kmean.fit(x)\n",
    "    wcss_iter = kmean.inertia_\n",
    "    wcss.append(wcss_iter)\n",
    "\n",
    "number_clusters = range(1,7)\n",
    "plt.plot(number_clusters,wcss)\n",
    "plt.title('The Elbow title')\n",
    "plt.xlabel('Number of clusters')\n",
    "plt.ylabel('WCSS')"
   ]
  },
  {
   "cell_type": "markdown",
   "id": "ad573eb0",
   "metadata": {},
   "source": [
    "did temp and traffic, now clouds and traffic"
   ]
  },
  {
   "cell_type": "code",
   "execution_count": 18,
   "id": "4284159d",
   "metadata": {},
   "outputs": [
    {
     "data": {
      "text/html": [
       "<div>\n",
       "<style scoped>\n",
       "    .dataframe tbody tr th:only-of-type {\n",
       "        vertical-align: middle;\n",
       "    }\n",
       "\n",
       "    .dataframe tbody tr th {\n",
       "        vertical-align: top;\n",
       "    }\n",
       "\n",
       "    .dataframe thead th {\n",
       "        text-align: right;\n",
       "    }\n",
       "</style>\n",
       "<table border=\"1\" class=\"dataframe\">\n",
       "  <thead>\n",
       "    <tr style=\"text-align: right;\">\n",
       "      <th></th>\n",
       "      <th>clouds_all</th>\n",
       "      <th>traffic_volume</th>\n",
       "    </tr>\n",
       "  </thead>\n",
       "  <tbody>\n",
       "    <tr>\n",
       "      <th>0</th>\n",
       "      <td>40</td>\n",
       "      <td>5545</td>\n",
       "    </tr>\n",
       "    <tr>\n",
       "      <th>1</th>\n",
       "      <td>75</td>\n",
       "      <td>4516</td>\n",
       "    </tr>\n",
       "    <tr>\n",
       "      <th>2</th>\n",
       "      <td>90</td>\n",
       "      <td>4767</td>\n",
       "    </tr>\n",
       "    <tr>\n",
       "      <th>3</th>\n",
       "      <td>90</td>\n",
       "      <td>5026</td>\n",
       "    </tr>\n",
       "    <tr>\n",
       "      <th>4</th>\n",
       "      <td>75</td>\n",
       "      <td>4918</td>\n",
       "    </tr>\n",
       "    <tr>\n",
       "      <th>...</th>\n",
       "      <td>...</td>\n",
       "      <td>...</td>\n",
       "    </tr>\n",
       "    <tr>\n",
       "      <th>48199</th>\n",
       "      <td>75</td>\n",
       "      <td>3543</td>\n",
       "    </tr>\n",
       "    <tr>\n",
       "      <th>48200</th>\n",
       "      <td>90</td>\n",
       "      <td>2781</td>\n",
       "    </tr>\n",
       "    <tr>\n",
       "      <th>48201</th>\n",
       "      <td>90</td>\n",
       "      <td>2159</td>\n",
       "    </tr>\n",
       "    <tr>\n",
       "      <th>48202</th>\n",
       "      <td>90</td>\n",
       "      <td>1450</td>\n",
       "    </tr>\n",
       "    <tr>\n",
       "      <th>48203</th>\n",
       "      <td>90</td>\n",
       "      <td>954</td>\n",
       "    </tr>\n",
       "  </tbody>\n",
       "</table>\n",
       "<p>48204 rows × 2 columns</p>\n",
       "</div>"
      ],
      "text/plain": [
       "       clouds_all  traffic_volume\n",
       "0              40            5545\n",
       "1              75            4516\n",
       "2              90            4767\n",
       "3              90            5026\n",
       "4              75            4918\n",
       "...           ...             ...\n",
       "48199          75            3543\n",
       "48200          90            2781\n",
       "48201          90            2159\n",
       "48202          90            1450\n",
       "48203          90             954\n",
       "\n",
       "[48204 rows x 2 columns]"
      ]
     },
     "execution_count": 18,
     "metadata": {},
     "output_type": "execute_result"
    }
   ],
   "source": [
    "y = df[['clouds_all', 'traffic_volume']].copy()\n",
    "y"
   ]
  },
  {
   "cell_type": "code",
   "execution_count": 19,
   "id": "46e19903",
   "metadata": {},
   "outputs": [
    {
     "data": {
      "text/plain": [
       "array([0, 0, 0, ..., 2, 1, 1])"
      ]
     },
     "execution_count": 19,
     "metadata": {},
     "output_type": "execute_result"
    }
   ],
   "source": [
    "kmean2 = KMeans(3)\n",
    "kmean2.fit(y)\n",
    "identified_clusters2 = kmean2.fit_predict(y)\n",
    "identified_clusters2"
   ]
  },
  {
   "cell_type": "code",
   "execution_count": 20,
   "id": "9b3668a0",
   "metadata": {},
   "outputs": [
    {
     "data": {
      "text/plain": [
       "<matplotlib.collections.PathCollection at 0x1aa1548a940>"
      ]
     },
     "execution_count": 20,
     "metadata": {},
     "output_type": "execute_result"
    },
    {
     "data": {
      "image/png": "[encoded data removed]",
      "text/plain": [
       "<Figure size 640x480 with 1 Axes>"
      ]
     },
     "metadata": {},
     "output_type": "display_data"
    }
   ],
   "source": [
    "data_with_clusters2 = df.copy()\n",
    "data_with_clusters2['Clusters'] = identified_clusters2 \n",
    "plt.scatter(data_with_clusters2['clouds_all'],data_with_clusters2['traffic_volume'],c=data_with_clusters2['Clusters'],cmap='rainbow')"
   ]
  },
  {
   "cell_type": "code",
   "execution_count": 21,
   "id": "3f436b33",
   "metadata": {},
   "outputs": [
    {
     "name": "stdout",
     "output_type": "stream",
     "text": [
      "       traffic_level  traffic_volume\n",
      "0                  2            5545\n",
      "1                  2            4516\n",
      "2                  2            4767\n",
      "3                  2            5026\n",
      "4                  2            4918\n",
      "...              ...             ...\n",
      "48199              1            3543\n",
      "48200              1            2781\n",
      "48201              1            2159\n",
      "48202              0            1450\n",
      "48203              0             954\n",
      "\n",
      "[48204 rows x 2 columns]\n"
     ]
    },
    {
     "name": "stderr",
     "output_type": "stream",
     "text": [
      "C:\\Users\\garth\\anaconda3\\lib\\site-packages\\sklearn\\cluster\\_kmeans.py:1146: RuntimeWarning: Explicit initial center position passed: performing only one init in KMeans instead of n_init=10.\n",
      "  self._check_params(X)\n"
     ]
    },
    {
     "data": {
      "image/png": "[encoded data removed]",
      "text/plain": [
       "<Figure size 640x480 with 1 Axes>"
      ]
     },
     "metadata": {},
     "output_type": "display_data"
    }
   ],
   "source": [
    "#df['traffic_volume'] = df['traffic_volume'].astype(float)\n",
    "#kmeans = KMeans(n_clusters=3, random_state=0).fit(df['traffic_volume'])\n",
    "\n",
    "# add the cluster labels to the dataframe\n",
    "#df['traffic_level'] = kmeans.labels_\n",
    "from sklearn.cluster import KMeans\n",
    "\n",
    "# reshape the data to have two dimensions\n",
    "data = np.array(df['traffic_volume']).reshape(-1, 1)\n",
    "sorted_data = np.sort(df['traffic_volume'])\n",
    "initial_centroids = np.array([\n",
    "    [sorted_data[int(0 * len(sorted_data) / 100)]],\n",
    "    [sorted_data[int(50 * len(sorted_data) / 100)]],\n",
    "    [sorted_data[int(100 * (len(sorted_data)-1) / 100)]]\n",
    "])\n",
    "\n",
    "# fit KMeans model with specified initial centroids\n",
    "kmeans = KMeans(n_clusters=3, init=initial_centroids).fit(data)\n",
    "\n",
    "# add the cluster labels to the dataframe\n",
    "df['traffic_level'] = kmeans.labels_\n",
    "print(df[['traffic_level', 'traffic_volume']])\n",
    "# sort the DataFrame by 'traffic_volume' column\n",
    "df = df.sort_values('traffic_volume')\n",
    "\n",
    "# normalize the 'traffic_volume' column between 0 and 1\n",
    "df['normalized_traffic_volume'] = (df['traffic_volume'] - df['traffic_volume'].min()) / (df['traffic_volume'].max() - df['traffic_volume'].min())\n",
    "\n",
    "# plot the line chart\n",
    "plt.plot(df['normalized_traffic_volume'], df['traffic_level'])\n",
    "plt.xlabel('Normalized Traffic Volume')\n",
    "plt.ylabel('Traffic Level')\n",
    "plt.title('Traffic Level vs. Normalized Traffic Volume')\n",
    "plt.show()"
   ]
  },
  {
   "cell_type": "code",
   "execution_count": 22,
   "id": "d34cb530",
   "metadata": {},
   "outputs": [
    {
     "data": {
      "text/html": [
       "<div>\n",
       "<style scoped>\n",
       "    .dataframe tbody tr th:only-of-type {\n",
       "        vertical-align: middle;\n",
       "    }\n",
       "\n",
       "    .dataframe tbody tr th {\n",
       "        vertical-align: top;\n",
       "    }\n",
       "\n",
       "    .dataframe thead th {\n",
       "        text-align: right;\n",
       "    }\n",
       "</style>\n",
       "<table border=\"1\" class=\"dataframe\">\n",
       "  <thead>\n",
       "    <tr style=\"text-align: right;\">\n",
       "      <th></th>\n",
       "      <th>rain_1h</th>\n",
       "      <th>traffic_volume</th>\n",
       "    </tr>\n",
       "  </thead>\n",
       "  <tbody>\n",
       "    <tr>\n",
       "      <th>25186</th>\n",
       "      <td>0.0</td>\n",
       "      <td>0</td>\n",
       "    </tr>\n",
       "    <tr>\n",
       "      <th>25191</th>\n",
       "      <td>0.0</td>\n",
       "      <td>0</td>\n",
       "    </tr>\n",
       "    <tr>\n",
       "      <th>24821</th>\n",
       "      <td>0.0</td>\n",
       "      <td>1</td>\n",
       "    </tr>\n",
       "    <tr>\n",
       "      <th>16849</th>\n",
       "      <td>0.0</td>\n",
       "      <td>1</td>\n",
       "    </tr>\n",
       "    <tr>\n",
       "      <th>26438</th>\n",
       "      <td>0.0</td>\n",
       "      <td>1</td>\n",
       "    </tr>\n",
       "    <tr>\n",
       "      <th>...</th>\n",
       "      <td>...</td>\n",
       "      <td>...</td>\n",
       "    </tr>\n",
       "    <tr>\n",
       "      <th>5619</th>\n",
       "      <td>0.0</td>\n",
       "      <td>7217</td>\n",
       "    </tr>\n",
       "    <tr>\n",
       "      <th>22671</th>\n",
       "      <td>0.0</td>\n",
       "      <td>7241</td>\n",
       "    </tr>\n",
       "    <tr>\n",
       "      <th>22640</th>\n",
       "      <td>0.0</td>\n",
       "      <td>7260</td>\n",
       "    </tr>\n",
       "    <tr>\n",
       "      <th>22641</th>\n",
       "      <td>0.0</td>\n",
       "      <td>7260</td>\n",
       "    </tr>\n",
       "    <tr>\n",
       "      <th>31615</th>\n",
       "      <td>0.0</td>\n",
       "      <td>7280</td>\n",
       "    </tr>\n",
       "  </tbody>\n",
       "</table>\n",
       "<p>48204 rows × 2 columns</p>\n",
       "</div>"
      ],
      "text/plain": [
       "       rain_1h  traffic_volume\n",
       "25186      0.0               0\n",
       "25191      0.0               0\n",
       "24821      0.0               1\n",
       "16849      0.0               1\n",
       "26438      0.0               1\n",
       "...        ...             ...\n",
       "5619       0.0            7217\n",
       "22671      0.0            7241\n",
       "22640      0.0            7260\n",
       "22641      0.0            7260\n",
       "31615      0.0            7280\n",
       "\n",
       "[48204 rows x 2 columns]"
      ]
     },
     "execution_count": 22,
     "metadata": {},
     "output_type": "execute_result"
    }
   ],
   "source": [
    "rain = df[['rain_1h', 'traffic_volume']].copy()\n",
    "rain"
   ]
  },
  {
   "cell_type": "code",
   "execution_count": 23,
   "id": "6aaaa9e0",
   "metadata": {},
   "outputs": [
    {
     "data": {
      "text/plain": [
       "<matplotlib.collections.PathCollection at 0x1aa15b51250>"
      ]
     },
     "execution_count": 23,
     "metadata": {},
     "output_type": "execute_result"
    },
    {
     "data": {
      "image/png": "[encoded data removed]",
      "text/plain": [
       "<Figure size 640x480 with 1 Axes>"
      ]
     },
     "metadata": {},
     "output_type": "display_data"
    }
   ],
   "source": [
    "kmean3 = KMeans(3)\n",
    "kmean3.fit(rain)\n",
    "identified_clusters3 = kmean3.fit_predict(rain)\n",
    "data_with_clusters3 = df.copy()\n",
    "data_with_clusters3['Clusters'] = identified_clusters3\n",
    "plt.scatter(data_with_clusters3['rain_1h'],data_with_clusters3['traffic_volume'],c=data_with_clusters3['Clusters'],cmap='rainbow')"
   ]
  },
  {
   "cell_type": "code",
   "execution_count": 24,
   "id": "5337f5da",
   "metadata": {},
   "outputs": [
    {
     "data": {
      "text/html": [
       "<div>\n",
       "<style scoped>\n",
       "    .dataframe tbody tr th:only-of-type {\n",
       "        vertical-align: middle;\n",
       "    }\n",
       "\n",
       "    .dataframe tbody tr th {\n",
       "        vertical-align: top;\n",
       "    }\n",
       "\n",
       "    .dataframe thead th {\n",
       "        text-align: right;\n",
       "    }\n",
       "</style>\n",
       "<table border=\"1\" class=\"dataframe\">\n",
       "  <thead>\n",
       "    <tr style=\"text-align: right;\">\n",
       "      <th></th>\n",
       "      <th>snow_1h</th>\n",
       "      <th>traffic_volume</th>\n",
       "    </tr>\n",
       "  </thead>\n",
       "  <tbody>\n",
       "    <tr>\n",
       "      <th>25186</th>\n",
       "      <td>0.0</td>\n",
       "      <td>0</td>\n",
       "    </tr>\n",
       "    <tr>\n",
       "      <th>25191</th>\n",
       "      <td>0.0</td>\n",
       "      <td>0</td>\n",
       "    </tr>\n",
       "    <tr>\n",
       "      <th>24821</th>\n",
       "      <td>0.0</td>\n",
       "      <td>1</td>\n",
       "    </tr>\n",
       "    <tr>\n",
       "      <th>16849</th>\n",
       "      <td>0.0</td>\n",
       "      <td>1</td>\n",
       "    </tr>\n",
       "    <tr>\n",
       "      <th>26438</th>\n",
       "      <td>0.0</td>\n",
       "      <td>1</td>\n",
       "    </tr>\n",
       "    <tr>\n",
       "      <th>...</th>\n",
       "      <td>...</td>\n",
       "      <td>...</td>\n",
       "    </tr>\n",
       "    <tr>\n",
       "      <th>5619</th>\n",
       "      <td>0.0</td>\n",
       "      <td>7217</td>\n",
       "    </tr>\n",
       "    <tr>\n",
       "      <th>22671</th>\n",
       "      <td>0.0</td>\n",
       "      <td>7241</td>\n",
       "    </tr>\n",
       "    <tr>\n",
       "      <th>22640</th>\n",
       "      <td>0.0</td>\n",
       "      <td>7260</td>\n",
       "    </tr>\n",
       "    <tr>\n",
       "      <th>22641</th>\n",
       "      <td>0.0</td>\n",
       "      <td>7260</td>\n",
       "    </tr>\n",
       "    <tr>\n",
       "      <th>31615</th>\n",
       "      <td>0.0</td>\n",
       "      <td>7280</td>\n",
       "    </tr>\n",
       "  </tbody>\n",
       "</table>\n",
       "<p>48204 rows × 2 columns</p>\n",
       "</div>"
      ],
      "text/plain": [
       "       snow_1h  traffic_volume\n",
       "25186      0.0               0\n",
       "25191      0.0               0\n",
       "24821      0.0               1\n",
       "16849      0.0               1\n",
       "26438      0.0               1\n",
       "...        ...             ...\n",
       "5619       0.0            7217\n",
       "22671      0.0            7241\n",
       "22640      0.0            7260\n",
       "22641      0.0            7260\n",
       "31615      0.0            7280\n",
       "\n",
       "[48204 rows x 2 columns]"
      ]
     },
     "execution_count": 24,
     "metadata": {},
     "output_type": "execute_result"
    }
   ],
   "source": [
    "snow = df[['snow_1h', 'traffic_volume']].copy()\n",
    "snow"
   ]
  },
  {
   "cell_type": "code",
   "execution_count": 25,
   "id": "a49f039d",
   "metadata": {},
   "outputs": [
    {
     "data": {
      "text/plain": [
       "<matplotlib.collections.PathCollection at 0x1aa17b3a280>"
      ]
     },
     "execution_count": 25,
     "metadata": {},
     "output_type": "execute_result"
    },
    {
     "data": {
      "image/png": "[encoded data removed]",
      "text/plain": [
       "<Figure size 640x480 with 1 Axes>"
      ]
     },
     "metadata": {},
     "output_type": "display_data"
    }
   ],
   "source": [
    "kmean4 = KMeans(3)\n",
    "kmean4.fit(snow)\n",
    "identified_clusters4 = kmean4.fit_predict(rain)\n",
    "data_with_clusters4 = df.copy()\n",
    "data_with_clusters4['Clusters'] = identified_clusters4\n",
    "plt.scatter(data_with_clusters4['snow_1h'],data_with_clusters4['traffic_volume'],c=data_with_clusters4['Clusters'],cmap='rainbow')"
   ]
  },
  {
   "cell_type": "code",
   "execution_count": 26,
   "id": "1e3e2cb6",
   "metadata": {},
   "outputs": [
    {
     "data": {
      "text/html": [
       "<div>\n",
       "<style scoped>\n",
       "    .dataframe tbody tr th:only-of-type {\n",
       "        vertical-align: middle;\n",
       "    }\n",
       "\n",
       "    .dataframe tbody tr th {\n",
       "        vertical-align: top;\n",
       "    }\n",
       "\n",
       "    .dataframe thead th {\n",
       "        text-align: right;\n",
       "    }\n",
       "</style>\n",
       "<table border=\"1\" class=\"dataframe\">\n",
       "  <thead>\n",
       "    <tr style=\"text-align: right;\">\n",
       "      <th></th>\n",
       "      <th>date_time</th>\n",
       "      <th>traffic_volume</th>\n",
       "    </tr>\n",
       "  </thead>\n",
       "  <tbody>\n",
       "    <tr>\n",
       "      <th>25186</th>\n",
       "      <td>2016-07-23 18:00:00</td>\n",
       "      <td>0</td>\n",
       "    </tr>\n",
       "    <tr>\n",
       "      <th>25191</th>\n",
       "      <td>2016-07-23 23:00:00</td>\n",
       "      <td>0</td>\n",
       "    </tr>\n",
       "    <tr>\n",
       "      <th>24821</th>\n",
       "      <td>2016-07-09 23:00:00</td>\n",
       "      <td>1</td>\n",
       "    </tr>\n",
       "    <tr>\n",
       "      <th>16849</th>\n",
       "      <td>2015-07-25 08:00:00</td>\n",
       "      <td>1</td>\n",
       "    </tr>\n",
       "    <tr>\n",
       "      <th>26438</th>\n",
       "      <td>2016-09-07 23:00:00</td>\n",
       "      <td>1</td>\n",
       "    </tr>\n",
       "    <tr>\n",
       "      <th>...</th>\n",
       "      <td>...</td>\n",
       "      <td>...</td>\n",
       "    </tr>\n",
       "    <tr>\n",
       "      <th>5619</th>\n",
       "      <td>2013-04-30 07:00:00</td>\n",
       "      <td>7217</td>\n",
       "    </tr>\n",
       "    <tr>\n",
       "      <th>22671</th>\n",
       "      <td>2016-04-22 07:00:00</td>\n",
       "      <td>7241</td>\n",
       "    </tr>\n",
       "    <tr>\n",
       "      <th>22640</th>\n",
       "      <td>2016-04-21 07:00:00</td>\n",
       "      <td>7260</td>\n",
       "    </tr>\n",
       "    <tr>\n",
       "      <th>22641</th>\n",
       "      <td>2016-04-21 07:00:00</td>\n",
       "      <td>7260</td>\n",
       "    </tr>\n",
       "    <tr>\n",
       "      <th>31615</th>\n",
       "      <td>2017-03-09 16:00:00</td>\n",
       "      <td>7280</td>\n",
       "    </tr>\n",
       "  </tbody>\n",
       "</table>\n",
       "<p>48204 rows × 2 columns</p>\n",
       "</div>"
      ],
      "text/plain": [
       "                 date_time  traffic_volume\n",
       "25186  2016-07-23 18:00:00               0\n",
       "25191  2016-07-23 23:00:00               0\n",
       "24821  2016-07-09 23:00:00               1\n",
       "16849  2015-07-25 08:00:00               1\n",
       "26438  2016-09-07 23:00:00               1\n",
       "...                    ...             ...\n",
       "5619   2013-04-30 07:00:00            7217\n",
       "22671  2016-04-22 07:00:00            7241\n",
       "22640  2016-04-21 07:00:00            7260\n",
       "22641  2016-04-21 07:00:00            7260\n",
       "31615  2017-03-09 16:00:00            7280\n",
       "\n",
       "[48204 rows x 2 columns]"
      ]
     },
     "execution_count": 26,
     "metadata": {},
     "output_type": "execute_result"
    }
   ],
   "source": [
    "time = df[['date_time', 'traffic_volume']].copy()\n",
    "time"
   ]
  },
  {
   "cell_type": "code",
   "execution_count": null,
   "id": "bd9c64fb",
   "metadata": {},
   "outputs": [],
   "source": []
  },
  {
   "cell_type": "code",
   "execution_count": null,
   "id": "0c8134c9",
   "metadata": {},
   "outputs": [],
   "source": []
  }
 ],
 "metadata": {
  "kernelspec": {
   "display_name": "Python 3 (ipykernel)",
   "language": "python",
   "name": "python3"
  },
  "language_info": {
   "codemirror_mode": {
    "name": "ipython",
    "version": 3
   },
   "file_extension": ".py",
   "mimetype": "text/x-python",
   "name": "python",
   "nbconvert_exporter": "python",
   "pygments_lexer": "ipython3",
   "version": "3.9.13"
  }
 },
 "nbformat": 4,
 "nbformat_minor": 5
}
